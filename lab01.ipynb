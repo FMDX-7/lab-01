{
  "cells": [
    {
      "cell_type": "markdown",
      "id": "7b030395-ff9d-488b-893a-3f2925d07a29",
      "metadata": {},
      "source": [
        "# BEE 4750 Lab 1: Julia and GitHub Basics\n",
        "\n",
        "**Name**:\n",
        "\n",
        "**ID**:\n",
        "\n",
        "> **Due Date**\n",
        ">\n",
        "> Wednesday, 8/28/24, 9:00pm\n",
        "\n",
        "## Setup\n",
        "\n",
        "The following code should go at the top of most Julia scripts; it will\n",
        "load the local package environment and install any needed packages. You\n",
        "will see this often and shouldn’t need to touch it."
      ]
    },
    {
      "cell_type": "code",
      "execution_count": 3,
      "id": "2",
      "metadata": {},
      "outputs": [
        {
          "name": "stderr",
          "output_type": "stream",
          "text": [
            "\u001b[32m\u001b[1m  Activating\u001b[22m\u001b[39m project at `c:\\Users\\FM's Laptop\\Downloads\\College\\BEE 4750\\labs\\lab01`\n"
          ]
        }
      ],
      "source": [
        "import Pkg\n",
        "Pkg.activate(\".\")\n",
        "Pkg.instantiate()"
      ]
    },
    {
      "cell_type": "markdown",
      "id": "b0c0f53b-93bc-4baa-8b0e-bdb58e8ff961",
      "metadata": {},
      "source": [
        "This next cell loads packages which are required for the rest of the\n",
        "code evaluation. In this case, we only need to load the `Plots.jl`\n",
        "plotting package, but you will see others over the course of the\n",
        "semester (and can add more if desired; just make sure that you’ve [added\n",
        "the new packages to the\n",
        "environment](https://viveks.me/environmental-systems-analysis/tutorials/julia-basics.html#package-management)).\n",
        "Standard Julia practice is to load all of the needed packages at the top\n",
        "of the file.\n",
        "\n",
        "> **Warning**\n",
        ">\n",
        "> Loading packages can take a while, especially the first time! Julia\n",
        "> tries to precompile all of the packages you’re using so repeat use is\n",
        "> faster, but this can be quite slow at first."
      ]
    },
    {
      "cell_type": "code",
      "execution_count": 4,
      "id": "4",
      "metadata": {},
      "outputs": [],
      "source": [
        "using Plots"
      ]
    },
    {
      "cell_type": "markdown",
      "id": "6d2bc421-d992-4864-a390-fd6d7820f6c0",
      "metadata": {},
      "source": [
        "## Introduction\n",
        "\n",
        "### Julia\n",
        "\n",
        "Julia is an up-and-coming language, originally developed for scientific\n",
        "programming. While learning a new programming language always has its\n",
        "hiccups, the good news is that if you’ve programmed in a high-level\n",
        "language such as Python or MATLAB, most Julia concepts should look\n",
        "familiar.\n",
        "\n",
        "If you have not successfully set up Julia, follow the instructions in\n",
        "[Tools\n",
        "Setup](https://viveks.me/environmental-systems-analysis/setup.html)\n",
        "and/or ask for help.\n",
        "\n",
        "You can use other editors for this course, but our recommendation is\n",
        "[Visual Studio Code](https://code.visualstudio.com/) with the [Julia\n",
        "extension](https://marketplace.visualstudio.com/items?itemName=julialang.language-julia),\n",
        "which will make life a *lot* simpler! You should have set this up by\n",
        "following the [Tools\n",
        "Setup](https://viveks.me/environmental-systems-analysis/setup.html)\n",
        "instructions, but if not, do so now and/or ask for help.\n",
        "\n",
        "### Jupyter Notebooks\n",
        "\n",
        "Jupyter notebooks integrate text and equations in Markdown with Julia\n",
        "(or Python, or R) code. To do this, Jupyter notebooks consist of two\n",
        "types of “cells”: code cells and Markdown (text) cells.\n",
        "\n",
        "Click once on this section of text. A box will appear around this text\n",
        "(and some areas above/below it) - all of that is within this cell.\n",
        "\n",
        "Markdown is a text markup framework for formatting language that makes\n",
        "things look pretty when viewed across different platforms: web browsers,\n",
        "notebooks, and so forth. Text written in Markdown can also include\n",
        "hyperlinks, LaTeX equations, section headers, and images, among other\n",
        "features (most of [the course\n",
        "website](https://viveks.me/climate-risk-analysis) and the lecture notes\n",
        "were all written in Markdown!). [Here is a basic Markdown cheat\n",
        "sheet](https://www.markdownguide.org/cheat-sheet/).\n",
        "\n",
        "What you are looking at right now is the formatted text after the\n",
        "Markdown is processed. To see the raw Markdown, do one of:\n",
        "\n",
        "-   press `Enter` while that cell is selected, or\n",
        "-   double-click on that cell.\n",
        "\n",
        "------------------------------------------------------------------------\n",
        "\n",
        "A couple of the features you will see in this Markdown cell:\n",
        "\n",
        "-   The `---` command creates a horizontal line. This is also nice for\n",
        "    separating sections.\n",
        "-   Backticks (`` `...` ``) can be used to format and highlight code,\n",
        "    keystrokes, etc.\n",
        "-   The `#` sign is used to create a new section header; two `#` signs\n",
        "    (`##`) is used to create a new subsection header; `###` creates a\n",
        "    subsubsection, and so on.\n",
        "-   You can create a bulleted list by using the asterisk `*` or a dash\n",
        "    `-` and a space.\n",
        "-   You can create regular text by just typing as usual.\n",
        "-   You can create **bold-faced text** by wrapping it with two asterisks\n",
        "    on both sides.\n",
        "-   You can create *italicized text* by wrapping it with a single\n",
        "    asterisk on both sides.\n",
        "-   To create a new paragraph, you must include a blank line between the\n",
        "    old and new paragraphs.\n",
        "\n",
        "At this point you might be wondering how to turn this cell back into the\n",
        "fully formatted Markdown text instead of the raw Markdown you’re\n",
        "probably still looking at. You have a couple of options, depending on\n",
        "your platform, but the most consistent is to type `Shift + Enter` to\n",
        "**execute** the cell (this is also how to run code, but more on that\n",
        "later).\n",
        "\n",
        "Additionally, you will frequently need to create new cells in your\n",
        "Jupyter notebooks. How you do this will depend on how you interact with\n",
        "the notebook, but try to figure this out now.\n",
        "\n",
        "One tip is to think carefully about what bits of code should be in the\n",
        "same cell, as you typically only see output from the last command in a\n",
        "cell. For example, compare the following:"
      ]
    },
    {
      "cell_type": "code",
      "execution_count": 5,
      "id": "6",
      "metadata": {},
      "outputs": [
        {
          "data": {
            "text/plain": [
              "-0.9589242746631385"
            ]
          },
          "metadata": {},
          "output_type": "display_data"
        }
      ],
      "source": [
        "x = 5\n",
        "sin(x)"
      ]
    },
    {
      "cell_type": "markdown",
      "id": "0b56a2f1-81e8-4426-b62a-95cfc3933b92",
      "metadata": {},
      "source": [
        "with"
      ]
    },
    {
      "cell_type": "code",
      "execution_count": 6,
      "id": "8",
      "metadata": {},
      "outputs": [
        {
          "data": {
            "text/plain": [
              "5"
            ]
          },
          "metadata": {},
          "output_type": "display_data"
        }
      ],
      "source": [
        "x = 5"
      ]
    },
    {
      "cell_type": "code",
      "execution_count": 7,
      "id": "10",
      "metadata": {},
      "outputs": [
        {
          "data": {
            "text/plain": [
              "-0.9589242746631385"
            ]
          },
          "metadata": {},
          "output_type": "display_data"
        }
      ],
      "source": [
        "sin(x)"
      ]
    },
    {
      "cell_type": "markdown",
      "id": "474d541d-93e6-47e1-874f-80abd6c9d7cc",
      "metadata": {},
      "source": [
        "In Julia, you can also suppress the output of a command with a\n",
        "semi-colon:"
      ]
    },
    {
      "cell_type": "code",
      "execution_count": 8,
      "id": "12",
      "metadata": {},
      "outputs": [],
      "source": [
        "sin(x);"
      ]
    },
    {
      "cell_type": "markdown",
      "id": "e5950d08-d04e-4fc7-bed8-33e0ee9a1909",
      "metadata": {},
      "source": [
        "which can help if you want to split some code out for clarity or to\n",
        "insert some text prior to it, but don’t want to clutter the notebook\n",
        "with its output.\n",
        "\n",
        "For code cells, to execute the commands within the cell, we also press\n",
        "`Shift+Enter`.\n",
        "\n",
        "Finally, **make sure that you evaluate all of the code cells in order\n",
        "before submitting**. One bad outcome with notebooks occurs when cells\n",
        "are evaluated out of order, so fixed bugs and edits in previous cells do\n",
        "not get a chance to propagate down. You can do this with the `Run All`\n",
        "command in whichever interface you’re using to edit your notebook.\n",
        "\n",
        "### Julia Basics\n",
        "\n",
        "There are many tutorials and references for Julia, including a [basics\n",
        "overview on the class website](../tutorials/julia-basics.html). Please\n",
        "feel free to reference these as you work through any part of the course.\n",
        "\n",
        "### Formatting Math\n",
        "\n",
        "It will often be helpful to include nicely-formatted mathematics in a\n",
        "notebook. Markdown accomodates this using LaTeX syntax. A LaTeX\n",
        "cheatsheet is available on the class website, and many other guides\n",
        "exist online.\n",
        "\n",
        "Below is an example of a formatted equation: $$x = 5.$$\n",
        "\n",
        "### Looking For Help\n",
        "\n",
        "There is no shame in using Google, or other resources, for help when\n",
        "programming. There are many, many times when you can’t quite get the\n",
        "syntax to work, can’t quite figure out the right package or command to\n",
        "use, or are feeling too lazy or overwhelmed (I’m not judging either of\n",
        "those!) to dig through the documentation. Some good resources include:\n",
        "\n",
        "-   [Stack Overflow](https://stackoverflow.com/) is a treasure trove of\n",
        "    answers;\n",
        "-   The [official Julia forum](https://discourse.julialang.org/) and the\n",
        "    [Julia Subreddit](https://www.reddit.com/r/Julia/) are also very\n",
        "    useful.\n",
        "\n",
        "You are also highly encouraged to post on [Ed\n",
        "Discussion](https://us.edstem.org), though getting a response might be\n",
        "less immediate. Just be mindful that to get good answers, [you have to\n",
        "help people help you](https://stackoverflow.com/help/how-to-ask), and\n",
        "**make sure to give credit to any resources that were helpful**!\n",
        "\n",
        "## Exercises (3 points)\n",
        "\n",
        "Use your understanding of Julia syntax and the GitHub workflow to\n",
        "complete the following (hopefully short) exercises. Convert your\n",
        "completed lab assignment to a PDF and submit it to the Gradescope\n",
        "Assignment “Lab 1”.\n",
        "\n",
        "**Remember to**:\n",
        "\n",
        "-   Include a (succint but clear) writeup of the core idea underlying\n",
        "    your code, through some combination of equations, text, and\n",
        "    algorithms. As you are not required to submit your code, we will not\n",
        "    be looking at it in detail, and instead will rely on those writeups\n",
        "    to assess whether your approach is correct.\n",
        "-   If using the notebook, evaluate all of your code cells, in order\n",
        "    (using a `Run All` command). This will make sure all output is\n",
        "    visible and that the code cells were evaluated in the correct order.\n",
        "-   Tag each of the problems when you submit to Gradescope; a 10%\n",
        "    penalty will be deducted if this is not done.\n",
        "\n",
        "### Computing a Dot Product\n",
        "\n",
        "Given two numeric arrays `x` and `y`, write a function to compute their\n",
        "dot product if they have equal length, and return an error if not (this\n",
        "is useful for debugging!). Use the following code as a starting point."
      ]
    },
    {
      "cell_type": "code",
      "execution_count": 9,
      "id": "14",
      "metadata": {},
      "outputs": [
        {
          "data": {
            "text/plain": [
              "dot_product (generic function with 1 method)"
            ]
          },
          "metadata": {},
          "output_type": "display_data"
        }
      ],
      "source": [
        "function dot_product(x, y)\n",
        "    if length(x) == length(y) # insert test condition for equal lengths\n",
        "        return sum(x.*y)# compute and return dot product\n",
        "    else\n",
        "        throw(DimensionMismatch(\"length of x not equal to length of y\"))\n",
        "    end\n",
        "end "
      ]
    },
    {
      "cell_type": "markdown",
      "id": "e0ce47a6-a5e8-4cd8-a776-5b04adfa6330",
      "metadata": {},
      "source": [
        "Here are some tests to make sure your code works as intended. Tests like\n",
        "these are useful to make sure everything works as intended. One reason\n",
        "to split your code up into functions is that it makes it straightforward\n",
        "to write tests to make sure each piece of your code works, which makes\n",
        "it easier to identify where errors are occuring."
      ]
    },
    {
      "cell_type": "code",
      "execution_count": 10,
      "id": "16",
      "metadata": {},
      "outputs": [
        {
          "data": {
            "text/plain": [
              "32"
            ]
          },
          "metadata": {},
          "output_type": "display_data"
        }
      ],
      "source": [
        "dot_product([1 2 3], [4 5 6])"
      ]
    },
    {
      "cell_type": "markdown",
      "id": "37f85171-25e8-4513-b57c-af25ff4378e7",
      "metadata": {},
      "source": [
        "If you know the value you should get, you can write a more formal test\n",
        "using the `@assert` macro, which is a good way to “automate” checking\n",
        "(since you get an obvious error if the code doesn’t work as desired):"
      ]
    },
    {
      "cell_type": "code",
      "execution_count": 11,
      "id": "18",
      "metadata": {},
      "outputs": [],
      "source": [
        "@assert dot_product([1 2 3], [4 5 6]) == 32"
      ]
    },
    {
      "cell_type": "markdown",
      "id": "65ccdcd8-449e-4f0c-8f4e-7953ea267f8d",
      "metadata": {},
      "source": [
        "Let’s also make sure we get an error when the dimensions of the two\n",
        "vectors don’t match:"
      ]
    },
    {
      "cell_type": "code",
      "execution_count": 12,
      "id": "20",
      "metadata": {},
      "outputs": [
        {
          "ename": "DimensionMismatch",
          "evalue": "DimensionMismatch: length of x not equal to length of y",
          "output_type": "error",
          "traceback": [
            "DimensionMismatch: length of x not equal to length of y\n",
            "\n",
            "Stacktrace:\n",
            " [1] dot_product(x::Matrix{Int64}, y::Matrix{Int64})\n",
            "   @ Main c:\\Users\\FM's Laptop\\Downloads\\College\\BEE 4750\\labs\\lab01\\jl_notebook_cell_df34fa98e69747e1a8f8a730347b8e2f_X15sZmlsZQ==.jl:5\n",
            " [2] top-level scope\n",
            "   @ c:\\Users\\FM's Laptop\\Downloads\\College\\BEE 4750\\labs\\lab01\\jl_notebook_cell_df34fa98e69747e1a8f8a730347b8e2f_X24sZmlsZQ==.jl:1"
          ]
        }
      ],
      "source": [
        "dot_product([1 2 3], [4 5])"
      ]
    },
    {
      "cell_type": "markdown",
      "id": "8c069a05-159a-43b4-aa3f-d1fec9a2f727",
      "metadata": {},
      "source": [
        "### Making a Plot\n",
        "\n",
        "Write a function to compute the square of an integer `x`. Evaluate this\n",
        "function for integers between $x=-5$ and $x=5$ and make a plot of the\n",
        "squared values (you can find a quick guide to making various types of\n",
        "plots\n",
        "[here](https://viveks.me/environmental-systems-analysis/tutorials/julia-plots.html)).\n",
        "Make sure to label your axes."
      ]
    },
    {
      "cell_type": "code",
      "execution_count": 13,
      "id": "22",
      "metadata": {},
      "outputs": [
        {
          "data": {
            "image/png": "[encoded data removed]",
            "image/svg+xml": [
              "<?xml version=\"1.0\" encoding=\"utf-8\"?>\n",
              "<svg xmlns=\"http://www.w3.org/2000/svg\" xmlns:xlink=\"http://www.w3.org/1999/xlink\" width=\"600\" height=\"400\" viewBox=\"0 0 2400 1600\">\n",
              "<defs>\n",
              "  <clipPath id=\"clip350\">\n",
              "    <rect x=\"0\" y=\"0\" width=\"2400\" height=\"1600\"/>\n",
              "  </clipPath>\n",
              "</defs>\n",
              "<path clip-path=\"url(#clip350)\" d=\"M0 1600 L2400 1600 L2400 0 L0 0  Z\" fill=\"#ffffff\" fill-rule=\"evenodd\" fill-opacity=\"1\"/>\n",
              "<defs>\n",
              "  <clipPath id=\"clip351\">\n",
              "    <rect x=\"480\" y=\"0\" width=\"1681\" height=\"1600\"/>\n",
              "  </clipPath>\n",
              "</defs>\n",
              "<path clip-path=\"url(#clip350)\" d=\"M203.964 1423.18 L2352.76 1423.18 L2352.76 123.472 L203.964 123.472  Z\" fill=\"#ffffff\" fill-rule=\"evenodd\" fill-opacity=\"1\"/>\n",
              "<defs>\n",
              "  <clipPath id=\"clip352\">\n",
              "    <rect x=\"203\" y=\"123\" width=\"2150\" height=\"1301\"/>\n",
              "  </clipPath>\n",
              "</defs>\n",
              "<polyline clip-path=\"url(#clip352)\" style=\"stroke:#000000; stroke-linecap:round; stroke-linejoin:round; stroke-width:2; stroke-opacity:0.1; fill:none\" points=\"467.495,1423.18 467.495,123.472 \"/>\n",
              "<polyline clip-path=\"url(#clip352)\" style=\"stroke:#000000; stroke-linecap:round; stroke-linejoin:round; stroke-width:2; stroke-opacity:0.1; fill:none\" points=\"872.927,1423.18 872.927,123.472 \"/>\n",
              "<polyline clip-path=\"url(#clip352)\" style=\"stroke:#000000; stroke-linecap:round; stroke-linejoin:round; stroke-width:2; stroke-opacity:0.1; fill:none\" points=\"1278.36,1423.18 1278.36,123.472 \"/>\n",
              "<polyline clip-path=\"url(#clip352)\" style=\"stroke:#000000; stroke-linecap:round; stroke-linejoin:round; stroke-width:2; stroke-opacity:0.1; fill:none\" points=\"1683.79,1423.18 1683.79,123.472 \"/>\n",
              "<polyline clip-path=\"url(#clip352)\" style=\"stroke:#000000; stroke-linecap:round; stroke-linejoin:round; stroke-width:2; stroke-opacity:0.1; fill:none\" points=\"2089.22,1423.18 2089.22,123.472 \"/>\n",
              "<polyline clip-path=\"url(#clip350)\" style=\"stroke:#000000; stroke-linecap:round; stroke-linejoin:round; stroke-width:4; stroke-opacity:1; fill:none\" points=\"203.964,1423.18 2352.76,1423.18 \"/>\n",
              "<polyline clip-path=\"url(#clip350)\" style=\"stroke:#000000; stroke-linecap:round; stroke-linejoin:round; stroke-width:4; stroke-opacity:1; fill:none\" points=\"467.495,1423.18 467.495,1404.28 \"/>\n",
              "<polyline clip-path=\"url(#clip350)\" style=\"stroke:#000000; stroke-linecap:round; stroke-linejoin:round; stroke-width:4; stroke-opacity:1; fill:none\" points=\"872.927,1423.18 872.927,1404.28 \"/>\n",
              "<polyline clip-path=\"url(#clip350)\" style=\"stroke:#000000; stroke-linecap:round; stroke-linejoin:round; stroke-width:4; stroke-opacity:1; fill:none\" points=\"1278.36,1423.18 1278.36,1404.28 \"/>\n",
              "<polyline clip-path=\"url(#clip350)\" style=\"stroke:#000000; stroke-linecap:round; stroke-linejoin:round; stroke-width:4; stroke-opacity:1; fill:none\" points=\"1683.79,1423.18 1683.79,1404.28 \"/>\n",
              "<polyline clip-path=\"url(#clip350)\" style=\"stroke:#000000; stroke-linecap:round; stroke-linejoin:round; stroke-width:4; stroke-opacity:1; fill:none\" points=\"2089.22,1423.18 2089.22,1404.28 \"/>\n",
              "<path clip-path=\"url(#clip350)\" d=\"M436.395 1468.75 L466.071 1468.75 L466.071 1472.69 L436.395 1472.69 L436.395 1468.75 Z\" fill=\"#000000\" fill-rule=\"nonzero\" fill-opacity=\"1\" /><path clip-path=\"url(#clip350)\" d=\"M489.011 1455.09 L477.205 1473.54 L489.011 1473.54 L489.011 1455.09 M487.784 1451.02 L493.664 1451.02 L493.664 1473.54 L498.594 1473.54 L498.594 1477.43 L493.664 1477.43 L493.664 1485.58 L489.011 1485.58 L489.011 1477.43 L473.409 1477.43 L473.409 1472.92 L487.784 1451.02 Z\" fill=\"#000000\" fill-rule=\"nonzero\" fill-opacity=\"1\" /><path clip-path=\"url(#clip350)\" d=\"M842.87 1468.75 L872.545 1468.75 L872.545 1472.69 L842.87 1472.69 L842.87 1468.75 Z\" fill=\"#000000\" fill-rule=\"nonzero\" fill-opacity=\"1\" /><path clip-path=\"url(#clip350)\" d=\"M886.666 1481.64 L902.985 1481.64 L902.985 1485.58 L881.041 1485.58 L881.041 1481.64 Q883.703 1478.89 888.286 1474.26 Q892.892 1469.61 894.073 1468.27 Q896.318 1465.74 897.198 1464.01 Q898.101 1462.25 898.101 1460.56 Q898.101 1457.8 896.156 1456.07 Q894.235 1454.33 891.133 1454.33 Q888.934 1454.33 886.48 1455.09 Q884.05 1455.86 881.272 1457.41 L881.272 1452.69 Q884.096 1451.55 886.55 1450.97 Q889.004 1450.39 891.041 1450.39 Q896.411 1450.39 899.605 1453.08 Q902.8 1455.77 902.8 1460.26 Q902.8 1462.39 901.99 1464.31 Q901.203 1466.2 899.096 1468.8 Q898.517 1469.47 895.416 1472.69 Q892.314 1475.88 886.666 1481.64 Z\" fill=\"#000000\" fill-rule=\"nonzero\" fill-opacity=\"1\" /><path clip-path=\"url(#clip350)\" d=\"M1278.36 1454.1 Q1274.75 1454.1 1272.92 1457.66 Q1271.11 1461.2 1271.11 1468.33 Q1271.11 1475.44 1272.92 1479.01 Q1274.75 1482.55 1278.36 1482.55 Q1281.99 1482.55 1283.8 1479.01 Q1285.63 1475.44 1285.63 1468.33 Q1285.63 1461.2 1283.8 1457.66 Q1281.99 1454.1 1278.36 1454.1 M1278.36 1450.39 Q1284.17 1450.39 1287.23 1455 Q1290.3 1459.58 1290.3 1468.33 Q1290.3 1477.06 1287.23 1481.67 Q1284.17 1486.25 1278.36 1486.25 Q1272.55 1486.25 1269.47 1481.67 Q1266.42 1477.06 1266.42 1468.33 Q1266.42 1459.58 1269.47 1455 Q1272.55 1450.39 1278.36 1450.39 Z\" fill=\"#000000\" fill-rule=\"nonzero\" fill-opacity=\"1\" /><path clip-path=\"url(#clip350)\" d=\"M1678.45 1481.64 L1694.76 1481.64 L1694.76 1485.58 L1672.82 1485.58 L1672.82 1481.64 Q1675.48 1478.89 1680.07 1474.26 Q1684.67 1469.61 1685.85 1468.27 Q1688.1 1465.74 1688.98 1464.01 Q1689.88 1462.25 1689.88 1460.56 Q1689.88 1457.8 1687.94 1456.07 Q1686.01 1454.33 1682.91 1454.33 Q1680.71 1454.33 1678.26 1455.09 Q1675.83 1455.86 1673.05 1457.41 L1673.05 1452.69 Q1675.88 1451.55 1678.33 1450.97 Q1680.78 1450.39 1682.82 1450.39 Q1688.19 1450.39 1691.38 1453.08 Q1694.58 1455.77 1694.58 1460.26 Q1694.58 1462.39 1693.77 1464.31 Q1692.98 1466.2 1690.88 1468.8 Q1690.3 1469.47 1687.2 1472.69 Q1684.09 1475.88 1678.45 1481.64 Z\" fill=\"#000000\" fill-rule=\"nonzero\" fill-opacity=\"1\" /><path clip-path=\"url(#clip350)\" d=\"M2092.23 1455.09 L2080.43 1473.54 L2092.23 1473.54 L2092.23 1455.09 M2091.01 1451.02 L2096.89 1451.02 L2096.89 1473.54 L2101.82 1473.54 L2101.82 1477.43 L2096.89 1477.43 L2096.89 1485.58 L2092.23 1485.58 L2092.23 1477.43 L2076.63 1477.43 L2076.63 1472.92 L2091.01 1451.02 Z\" fill=\"#000000\" fill-rule=\"nonzero\" fill-opacity=\"1\" /><path clip-path=\"url(#clip350)\" d=\"M1294.97 1532.4 L1282.08 1549.74 L1295.64 1568.04 L1288.74 1568.04 L1278.36 1554.04 L1267.98 1568.04 L1261.08 1568.04 L1274.92 1549.39 L1262.25 1532.4 L1269.16 1532.4 L1278.61 1545.1 L1288.07 1532.4 L1294.97 1532.4 Z\" fill=\"#000000\" fill-rule=\"nonzero\" fill-opacity=\"1\" /><polyline clip-path=\"url(#clip352)\" style=\"stroke:#000000; stroke-linecap:round; stroke-linejoin:round; stroke-width:2; stroke-opacity:0.1; fill:none\" points=\"203.964,1386.4 2352.76,1386.4 \"/>\n",
              "<polyline clip-path=\"url(#clip352)\" style=\"stroke:#000000; stroke-linecap:round; stroke-linejoin:round; stroke-width:2; stroke-opacity:0.1; fill:none\" points=\"203.964,1141.17 2352.76,1141.17 \"/>\n",
              "<polyline clip-path=\"url(#clip352)\" style=\"stroke:#000000; stroke-linecap:round; stroke-linejoin:round; stroke-width:2; stroke-opacity:0.1; fill:none\" points=\"203.964,895.94 2352.76,895.94 \"/>\n",
              "<polyline clip-path=\"url(#clip352)\" style=\"stroke:#000000; stroke-linecap:round; stroke-linejoin:round; stroke-width:2; stroke-opacity:0.1; fill:none\" points=\"203.964,650.712 2352.76,650.712 \"/>\n",
              "<polyline clip-path=\"url(#clip352)\" style=\"stroke:#000000; stroke-linecap:round; stroke-linejoin:round; stroke-width:2; stroke-opacity:0.1; fill:none\" points=\"203.964,405.484 2352.76,405.484 \"/>\n",
              "<polyline clip-path=\"url(#clip352)\" style=\"stroke:#000000; stroke-linecap:round; stroke-linejoin:round; stroke-width:2; stroke-opacity:0.1; fill:none\" points=\"203.964,160.256 2352.76,160.256 \"/>\n",
              "<polyline clip-path=\"url(#clip350)\" style=\"stroke:#000000; stroke-linecap:round; stroke-linejoin:round; stroke-width:4; stroke-opacity:1; fill:none\" points=\"203.964,1423.18 203.964,123.472 \"/>\n",
              "<polyline clip-path=\"url(#clip350)\" style=\"stroke:#000000; stroke-linecap:round; stroke-linejoin:round; stroke-width:4; stroke-opacity:1; fill:none\" points=\"203.964,1386.4 222.861,1386.4 \"/>\n",
              "<polyline clip-path=\"url(#clip350)\" style=\"stroke:#000000; stroke-linecap:round; stroke-linejoin:round; stroke-width:4; stroke-opacity:1; fill:none\" points=\"203.964,1141.17 222.861,1141.17 \"/>\n",
              "<polyline clip-path=\"url(#clip350)\" style=\"stroke:#000000; stroke-linecap:round; stroke-linejoin:round; stroke-width:4; stroke-opacity:1; fill:none\" points=\"203.964,895.94 222.861,895.94 \"/>\n",
              "<polyline clip-path=\"url(#clip350)\" style=\"stroke:#000000; stroke-linecap:round; stroke-linejoin:round; stroke-width:4; stroke-opacity:1; fill:none\" points=\"203.964,650.712 222.861,650.712 \"/>\n",
              "<polyline clip-path=\"url(#clip350)\" style=\"stroke:#000000; stroke-linecap:round; stroke-linejoin:round; stroke-width:4; stroke-opacity:1; fill:none\" points=\"203.964,405.484 222.861,405.484 \"/>\n",
              "<polyline clip-path=\"url(#clip350)\" style=\"stroke:#000000; stroke-linecap:round; stroke-linejoin:round; stroke-width:4; stroke-opacity:1; fill:none\" points=\"203.964,160.256 222.861,160.256 \"/>\n",
              "<path clip-path=\"url(#clip350)\" d=\"M156.019 1372.19 Q152.408 1372.19 150.579 1375.76 Q148.774 1379.3 148.774 1386.43 Q148.774 1393.54 150.579 1397.1 Q152.408 1400.64 156.019 1400.64 Q159.653 1400.64 161.459 1397.1 Q163.288 1393.54 163.288 1386.43 Q163.288 1379.3 161.459 1375.76 Q159.653 1372.19 156.019 1372.19 M156.019 1368.49 Q161.829 1368.49 164.885 1373.1 Q167.964 1377.68 167.964 1386.43 Q167.964 1395.16 164.885 1399.76 Q161.829 1404.35 156.019 1404.35 Q150.209 1404.35 147.13 1399.76 Q144.075 1395.16 144.075 1386.43 Q144.075 1377.68 147.13 1373.1 Q150.209 1368.49 156.019 1368.49 Z\" fill=\"#000000\" fill-rule=\"nonzero\" fill-opacity=\"1\" /><path clip-path=\"url(#clip350)\" d=\"M147.061 1123.89 L165.417 1123.89 L165.417 1127.82 L151.343 1127.82 L151.343 1136.3 Q152.362 1135.95 153.38 1135.79 Q154.399 1135.6 155.417 1135.6 Q161.204 1135.6 164.584 1138.77 Q167.964 1141.94 167.964 1147.36 Q167.964 1152.94 164.491 1156.04 Q161.019 1159.12 154.7 1159.12 Q152.524 1159.12 150.255 1158.75 Q148.01 1158.38 145.603 1157.64 L145.603 1152.94 Q147.686 1154.07 149.908 1154.63 Q152.13 1155.18 154.607 1155.18 Q158.612 1155.18 160.95 1153.08 Q163.288 1150.97 163.288 1147.36 Q163.288 1143.75 160.95 1141.64 Q158.612 1139.54 154.607 1139.54 Q152.732 1139.54 150.857 1139.95 Q149.005 1140.37 147.061 1141.25 L147.061 1123.89 Z\" fill=\"#000000\" fill-rule=\"nonzero\" fill-opacity=\"1\" /><path clip-path=\"url(#clip350)\" d=\"M116.668 909.285 L124.306 909.285 L124.306 882.919 L115.996 884.586 L115.996 880.327 L124.26 878.66 L128.936 878.66 L128.936 909.285 L136.575 909.285 L136.575 913.22 L116.668 913.22 L116.668 909.285 Z\" fill=\"#000000\" fill-rule=\"nonzero\" fill-opacity=\"1\" /><path clip-path=\"url(#clip350)\" d=\"M156.019 881.739 Q152.408 881.739 150.579 885.303 Q148.774 888.845 148.774 895.975 Q148.774 903.081 150.579 906.646 Q152.408 910.188 156.019 910.188 Q159.653 910.188 161.459 906.646 Q163.288 903.081 163.288 895.975 Q163.288 888.845 161.459 885.303 Q159.653 881.739 156.019 881.739 M156.019 878.035 Q161.829 878.035 164.885 882.641 Q167.964 887.225 167.964 895.975 Q167.964 904.701 164.885 909.308 Q161.829 913.891 156.019 913.891 Q150.209 913.891 147.13 909.308 Q144.075 904.701 144.075 895.975 Q144.075 887.225 147.13 882.641 Q150.209 878.035 156.019 878.035 Z\" fill=\"#000000\" fill-rule=\"nonzero\" fill-opacity=\"1\" /><path clip-path=\"url(#clip350)\" d=\"M117.663 664.057 L125.302 664.057 L125.302 637.691 L116.992 639.358 L116.992 635.099 L125.255 633.432 L129.931 633.432 L129.931 664.057 L137.57 664.057 L137.57 667.992 L117.663 667.992 L117.663 664.057 Z\" fill=\"#000000\" fill-rule=\"nonzero\" fill-opacity=\"1\" /><path clip-path=\"url(#clip350)\" d=\"M147.061 633.432 L165.417 633.432 L165.417 637.367 L151.343 637.367 L151.343 645.839 Q152.362 645.492 153.38 645.33 Q154.399 645.145 155.417 645.145 Q161.204 645.145 164.584 648.316 Q167.964 651.488 167.964 656.904 Q167.964 662.483 164.491 665.585 Q161.019 668.663 154.7 668.663 Q152.524 668.663 150.255 668.293 Q148.01 667.923 145.603 667.182 L145.603 662.483 Q147.686 663.617 149.908 664.173 Q152.13 664.728 154.607 664.728 Q158.612 664.728 160.95 662.622 Q163.288 660.515 163.288 656.904 Q163.288 653.293 160.95 651.187 Q158.612 649.08 154.607 649.08 Q152.732 649.08 150.857 649.497 Q149.005 649.913 147.061 650.793 L147.061 633.432 Z\" fill=\"#000000\" fill-rule=\"nonzero\" fill-opacity=\"1\" /><path clip-path=\"url(#clip350)\" d=\"M119.885 418.829 L136.204 418.829 L136.204 422.764 L114.26 422.764 L114.26 418.829 Q116.922 416.074 121.505 411.445 Q126.112 406.792 127.292 405.449 Q129.538 402.926 130.417 401.19 Q131.32 399.431 131.32 397.741 Q131.32 394.987 129.376 393.25 Q127.455 391.514 124.353 391.514 Q122.154 391.514 119.7 392.278 Q117.269 393.042 114.492 394.593 L114.492 389.871 Q117.316 388.737 119.769 388.158 Q122.223 387.579 124.26 387.579 Q129.63 387.579 132.825 390.264 Q136.019 392.95 136.019 397.44 Q136.019 399.57 135.209 401.491 Q134.422 403.389 132.316 405.982 Q131.737 406.653 128.635 409.871 Q125.533 413.065 119.885 418.829 Z\" fill=\"#000000\" fill-rule=\"nonzero\" fill-opacity=\"1\" /><path clip-path=\"url(#clip350)\" d=\"M156.019 391.283 Q152.408 391.283 150.579 394.848 Q148.774 398.389 148.774 405.519 Q148.774 412.625 150.579 416.19 Q152.408 419.732 156.019 419.732 Q159.653 419.732 161.459 416.19 Q163.288 412.625 163.288 405.519 Q163.288 398.389 161.459 394.848 Q159.653 391.283 156.019 391.283 M156.019 387.579 Q161.829 387.579 164.885 392.186 Q167.964 396.769 167.964 405.519 Q167.964 414.246 164.885 418.852 Q161.829 423.435 156.019 423.435 Q150.209 423.435 147.13 418.852 Q144.075 414.246 144.075 405.519 Q144.075 396.769 147.13 392.186 Q150.209 387.579 156.019 387.579 Z\" fill=\"#000000\" fill-rule=\"nonzero\" fill-opacity=\"1\" /><path clip-path=\"url(#clip350)\" d=\"M120.88 173.601 L137.2 173.601 L137.2 177.536 L115.256 177.536 L115.256 173.601 Q117.918 170.847 122.501 166.217 Q127.107 161.564 128.288 160.222 Q130.533 157.698 131.413 155.962 Q132.316 154.203 132.316 152.513 Q132.316 149.759 130.371 148.023 Q128.45 146.286 125.348 146.286 Q123.149 146.286 120.695 147.05 Q118.265 147.814 115.487 149.365 L115.487 144.643 Q118.311 143.509 120.765 142.93 Q123.218 142.351 125.255 142.351 Q130.626 142.351 133.82 145.036 Q137.015 147.722 137.015 152.212 Q137.015 154.342 136.204 156.263 Q135.417 158.161 133.311 160.754 Q132.732 161.425 129.63 164.643 Q126.529 167.837 120.88 173.601 Z\" fill=\"#000000\" fill-rule=\"nonzero\" fill-opacity=\"1\" /><path clip-path=\"url(#clip350)\" d=\"M147.061 142.976 L165.417 142.976 L165.417 146.911 L151.343 146.911 L151.343 155.384 Q152.362 155.036 153.38 154.874 Q154.399 154.689 155.417 154.689 Q161.204 154.689 164.584 157.86 Q167.964 161.032 167.964 166.448 Q167.964 172.027 164.491 175.129 Q161.019 178.208 154.7 178.208 Q152.524 178.208 150.255 177.837 Q148.01 177.467 145.603 176.726 L145.603 172.027 Q147.686 173.161 149.908 173.717 Q152.13 174.272 154.607 174.272 Q158.612 174.272 160.95 172.166 Q163.288 170.059 163.288 166.448 Q163.288 162.837 160.95 160.731 Q158.612 158.624 154.607 158.624 Q152.732 158.624 150.857 159.041 Q149.005 159.458 147.061 160.337 L147.061 142.976 Z\" fill=\"#000000\" fill-rule=\"nonzero\" fill-opacity=\"1\" /><path clip-path=\"url(#clip350)\" d=\"M67.3143 771.639 Q73.68 774.122 75.6216 776.477 Q77.5631 778.832 77.5631 782.779 L77.5631 787.458 L72.6615 787.458 L72.6615 784.02 Q72.6615 781.601 71.5157 780.265 Q70.3699 778.928 66.1048 777.305 L63.4312 776.254 L28.3562 790.673 L28.3562 784.466 L56.238 773.326 L28.3562 762.186 L28.3562 755.979 L67.3143 771.639 Z\" fill=\"#000000\" fill-rule=\"nonzero\" fill-opacity=\"1\" /><path clip-path=\"url(#clip350)\" d=\"M1028.81 24.0871 L1028.81 46.8127 L1039.1 46.8127 Q1044.81 46.8127 1047.93 43.8555 Q1051.05 40.8984 1051.05 35.4297 Q1051.05 30.0014 1047.93 27.0443 Q1044.81 24.0871 1039.1 24.0871 L1028.81 24.0871 M1020.63 17.3626 L1039.1 17.3626 Q1049.27 17.3626 1054.45 21.9807 Q1059.68 26.5582 1059.68 35.4297 Q1059.68 44.3822 1054.45 48.9597 Q1049.27 53.5372 1039.1 53.5372 L1028.81 53.5372 L1028.81 77.8426 L1020.63 77.8426 L1020.63 17.3626 Z\" fill=\"#000000\" fill-rule=\"nonzero\" fill-opacity=\"1\" /><path clip-path=\"url(#clip350)\" d=\"M1070.33 14.8106 L1077.78 14.8106 L1077.78 77.8426 L1070.33 77.8426 L1070.33 14.8106 Z\" fill=\"#000000\" fill-rule=\"nonzero\" fill-opacity=\"1\" /><path clip-path=\"url(#clip350)\" d=\"M1110.96 37.6982 Q1104.97 37.6982 1101.48 42.3972 Q1098 47.0558 1098 55.1981 Q1098 63.3404 1101.44 68.0394 Q1104.93 72.698 1110.96 72.698 Q1116.92 72.698 1120.4 67.9989 Q1123.88 63.2999 1123.88 55.1981 Q1123.88 47.1368 1120.4 42.4377 Q1116.92 37.6982 1110.96 37.6982 M1110.96 31.3788 Q1120.68 31.3788 1126.23 37.6982 Q1131.78 44.0176 1131.78 55.1981 Q1131.78 66.3381 1126.23 72.698 Q1120.68 79.0174 1110.96 79.0174 Q1101.2 79.0174 1095.65 72.698 Q1090.14 66.3381 1090.14 55.1981 Q1090.14 44.0176 1095.65 37.6982 Q1101.2 31.3788 1110.96 31.3788 Z\" fill=\"#000000\" fill-rule=\"nonzero\" fill-opacity=\"1\" /><path clip-path=\"url(#clip350)\" d=\"M1151.51 19.5906 L1151.51 32.4725 L1166.86 32.4725 L1166.86 38.2653 L1151.51 38.2653 L1151.51 62.8948 Q1151.51 68.4445 1153.01 70.0244 Q1154.55 71.6042 1159.21 71.6042 L1166.86 71.6042 L1166.86 77.8426 L1159.21 77.8426 Q1150.58 77.8426 1147.3 74.6424 Q1144.02 71.4017 1144.02 62.8948 L1144.02 38.2653 L1138.55 38.2653 L1138.55 32.4725 L1144.02 32.4725 L1144.02 19.5906 L1151.51 19.5906 Z\" fill=\"#000000\" fill-rule=\"nonzero\" fill-opacity=\"1\" /><path clip-path=\"url(#clip350)\" d=\"M1220.62 37.6982 Q1214.62 37.6982 1211.14 42.3972 Q1207.66 47.0558 1207.66 55.1981 Q1207.66 63.3404 1211.1 68.0394 Q1214.58 72.698 1220.62 72.698 Q1226.57 72.698 1230.06 67.9989 Q1233.54 63.2999 1233.54 55.1981 Q1233.54 47.1368 1230.06 42.4377 Q1226.57 37.6982 1220.62 37.6982 M1220.62 31.3788 Q1230.34 31.3788 1235.89 37.6982 Q1241.44 44.0176 1241.44 55.1981 Q1241.44 66.3381 1235.89 72.698 Q1230.34 79.0174 1220.62 79.0174 Q1210.86 79.0174 1205.31 72.698 Q1199.8 66.3381 1199.8 55.1981 Q1199.8 44.0176 1205.31 37.6982 Q1210.86 31.3788 1220.62 31.3788 Z\" fill=\"#000000\" fill-rule=\"nonzero\" fill-opacity=\"1\" /><path clip-path=\"url(#clip350)\" d=\"M1276.76 14.8106 L1276.76 21.0084 L1269.64 21.0084 Q1265.62 21.0084 1264.05 22.6288 Q1262.51 24.2492 1262.51 28.4621 L1262.51 32.4725 L1274.78 32.4725 L1274.78 38.2653 L1262.51 38.2653 L1262.51 77.8426 L1255.01 77.8426 L1255.01 38.2653 L1247.88 38.2653 L1247.88 32.4725 L1255.01 32.4725 L1255.01 29.3128 Q1255.01 21.7376 1258.54 18.2943 Q1262.06 14.8106 1269.72 14.8106 L1276.76 14.8106 Z\" fill=\"#000000\" fill-rule=\"nonzero\" fill-opacity=\"1\" /><path clip-path=\"url(#clip350)\" d=\"M1340.29 43.9445 Q1340.29 44.5183 1339.92 45.871 L1331.89 77.9246 Q1330.13 85.0567 1324.39 90.0574 Q1318.69 95.0581 1312.21 95.0581 Q1308.32 95.0581 1305.82 92.9677 Q1303.32 90.9182 1303.32 87.762 Q1303.32 84.9748 1304.79 83.6221 Q1306.27 82.3105 1308.03 82.3105 Q1308.61 82.3105 1309.22 82.4744 Q1309.84 82.6384 1310.49 83.3352 Q1311.15 84.032 1311.15 85.2207 Q1311.15 87.1472 1309.47 88.6638 Q1308.65 89.3606 1307.87 89.5246 Q1307.13 89.6885 1305.86 89.6885 Q1306.35 90.8362 1307.25 91.615 Q1308.16 92.3938 1309.18 92.6807 Q1310.21 93.0087 1310.86 93.0906 Q1311.56 93.2136 1312.21 93.2136 Q1317.46 93.2136 1321.48 87.926 Q1322.67 86.3274 1323.53 84.7288 Q1324.43 83.1712 1325.08 81.2447 Q1325.74 79.3592 1326.03 78.3345 Q1326.36 77.3098 1326.93 74.9734 Q1323.12 78.7854 1318.44 78.7854 Q1316.48 78.7854 1314.71 78.2525 Q1312.99 77.7197 1311.48 76.6129 Q1309.96 75.4652 1309.06 73.4568 Q1308.2 71.4483 1308.2 68.784 Q1308.2 65.9557 1309.3 62.1027 Q1310.41 58.2498 1313.07 51.1586 Q1314.51 47.1826 1314.51 45.2561 Q1314.51 44.3134 1314.3 43.7395 Q1314.1 43.1247 1313.69 42.9198 Q1313.28 42.6738 1313.03 42.6328 Q1312.83 42.5918 1312.42 42.5918 Q1310 42.5918 1307.75 45.0512 Q1305.49 47.5106 1303.93 53.0031 Q1303.61 54.0279 1303.4 54.2738 Q1303.2 54.5197 1302.58 54.5197 Q1301.56 54.4787 1301.56 53.659 Q1301.56 53.331 1301.93 52.0604 Q1302.29 50.7487 1303.16 48.8222 Q1304.06 46.8547 1305.29 45.0922 Q1306.52 43.2887 1308.44 42.018 Q1310.41 40.7473 1312.66 40.7473 Q1315.74 40.7473 1317.62 42.7558 Q1319.55 44.7233 1319.55 47.6335 Q1319.55 48.8222 1319.22 49.8879 Q1318.94 50.9127 1317.87 53.659 Q1313.57 64.7261 1313.57 70.1366 Q1313.57 71.4483 1313.77 72.555 Q1314.02 73.6207 1314.55 74.6865 Q1315.08 75.7112 1316.15 76.326 Q1317.26 76.8999 1318.77 76.8999 Q1320.7 76.8999 1322.5 75.9981 Q1324.35 75.0554 1325.49 73.7847 Q1326.68 72.514 1327.38 71.4483 Q1328.12 70.3416 1328.28 69.7677 L1332.05 54.6837 L1333.73 47.9614 Q1334.51 44.3134 1334.88 43.4116 Q1335.37 42.5509 1336.23 42.1 Q1337.09 41.6491 1337.83 41.6491 Q1338.86 41.6491 1339.55 42.2639 Q1340.29 42.8788 1340.29 43.9445 Z\" fill=\"#000000\" fill-rule=\"nonzero\" fill-opacity=\"1\" /><path clip-path=\"url(#clip350)\" d=\"M1365.56 65.095 Q1365.65 64.0702 1367.25 64.0702 L1418.69 64.0702 Q1421.11 64.0702 1421.15 65.013 Q1421.15 66.0377 1418.85 65.9967 L1367.82 65.9967 Q1365.56 66.0377 1365.56 65.095 M1365.56 48.6992 Q1365.56 47.6745 1367.33 47.7155 L1418.6 47.7155 Q1421.11 47.7155 1421.15 48.6992 Q1421.15 49.642 1419.01 49.642 L1367.25 49.642 Q1365.56 49.642 1365.56 48.6992 Z\" fill=\"#000000\" fill-rule=\"nonzero\" fill-opacity=\"1\" /><path clip-path=\"url(#clip350)\" d=\"M1495.33 46.2809 Q1495.33 48.5763 1493.9 49.8879 Q1492.46 51.1586 1490.82 51.1586 Q1489.27 51.1586 1488.45 50.2568 Q1487.63 49.3551 1487.63 48.2074 Q1487.63 46.6498 1488.78 45.2971 Q1489.92 43.9445 1491.64 43.6576 Q1489.96 42.5918 1487.46 42.5918 Q1485.82 42.5918 1484.39 43.4526 Q1483 44.3134 1482.14 45.4201 Q1481.32 46.5268 1480.58 48.1254 Q1479.88 49.683 1479.59 50.6257 Q1479.35 51.5275 1479.14 52.5113 L1476.27 63.9882 Q1474.88 69.4398 1474.88 71.3663 Q1474.88 73.7437 1476.03 75.3423 Q1477.18 76.8999 1479.47 76.8999 Q1480.37 76.8999 1481.4 76.6539 Q1482.42 76.367 1483.73 75.6292 Q1485.09 74.8504 1486.28 73.7027 Q1487.5 72.514 1488.69 70.5055 Q1489.88 68.4971 1490.66 65.9147 Q1490.91 65.013 1491.73 65.013 Q1492.75 65.013 1492.75 65.8328 Q1492.75 66.5296 1492.18 68.0052 Q1491.64 69.4398 1490.46 71.3253 Q1489.31 73.1698 1487.79 74.8504 Q1486.28 76.49 1484.02 77.6377 Q1481.77 78.7854 1479.31 78.7854 Q1475.78 78.7854 1473.45 76.8999 Q1471.11 75.0144 1470.25 72.3911 Q1470.04 72.76 1469.76 73.2518 Q1469.47 73.7437 1468.61 74.8504 Q1467.79 75.9161 1466.85 76.7359 Q1465.9 77.5147 1464.43 78.1295 Q1462.99 78.7854 1461.44 78.7854 Q1459.47 78.7854 1457.71 78.2115 Q1455.98 77.6377 1454.75 76.326 Q1453.52 75.0144 1453.52 73.2108 Q1453.52 71.2024 1454.88 69.8087 Q1456.27 68.3741 1458.16 68.3741 Q1459.35 68.3741 1460.29 69.0709 Q1461.27 69.7677 1461.27 71.2843 Q1461.27 72.9649 1460.12 74.2356 Q1458.98 75.5062 1457.34 75.8342 Q1459.02 76.8999 1461.52 76.8999 Q1464.22 76.8999 1466.35 74.5225 Q1468.49 72.1451 1469.51 68.1692 Q1472.05 58.6187 1473.04 54.3558 Q1474.02 50.0519 1474.02 48.2074 Q1474.02 46.4858 1473.57 45.2971 Q1473.12 44.1084 1472.34 43.5756 Q1471.6 43.0017 1470.9 42.7968 Q1470.25 42.5918 1469.51 42.5918 Q1468.28 42.5918 1466.89 43.0837 Q1465.53 43.5756 1463.9 44.7233 Q1462.3 45.83 1460.78 48.1254 Q1459.26 50.4208 1458.24 53.577 Q1458.03 54.5197 1457.13 54.5197 Q1456.15 54.4787 1456.15 53.659 Q1456.15 52.9621 1456.68 51.5275 Q1457.25 50.0519 1458.4 48.2074 Q1459.59 46.3629 1461.11 44.7233 Q1462.67 43.0427 1464.92 41.895 Q1467.22 40.7473 1469.67 40.7473 Q1470.78 40.7473 1471.85 40.9933 Q1472.95 41.1982 1474.27 41.813 Q1475.62 42.4279 1476.81 43.7805 Q1478 45.1332 1478.73 47.1007 Q1479.23 46.1579 1479.88 45.2561 Q1480.58 44.3544 1481.64 43.2477 Q1482.75 42.1 1484.27 41.4441 Q1485.82 40.7473 1487.55 40.7473 Q1489.23 40.7473 1490.87 41.1982 Q1492.51 41.6081 1493.9 42.9607 Q1495.33 44.2724 1495.33 46.2809 Z\" fill=\"#000000\" fill-rule=\"nonzero\" fill-opacity=\"1\" /><path clip-path=\"url(#clip350)\" d=\"M1503.89 52.737 Q1503.89 51.6754 1503.98 51.3598 Q1504.09 51.0441 1504.55 50.5564 L1515.83 37.9891 Q1522 31.0455 1522 24.9914 Q1522 21.0605 1519.93 18.2486 Q1517.89 15.4368 1514.13 15.4368 Q1511.55 15.4368 1509.37 17.0148 Q1507.19 18.5929 1506.19 21.4048 Q1506.36 21.3474 1506.96 21.3474 Q1508.42 21.3474 1509.23 22.2656 Q1510.06 23.1837 1510.06 24.4175 Q1510.06 25.9956 1509.03 26.7703 Q1508.02 27.5163 1507.02 27.5163 Q1506.62 27.5163 1506.07 27.4302 Q1505.56 27.3441 1504.72 26.5408 Q1503.89 25.7087 1503.89 24.2454 Q1503.89 20.1423 1506.99 16.8714 Q1510.12 13.6004 1514.88 13.6004 Q1520.27 13.6004 1523.8 16.814 Q1527.36 19.9989 1527.36 24.9914 Q1527.36 26.7416 1526.82 28.3484 Q1526.3 29.9265 1525.58 31.1602 Q1524.89 32.394 1523 34.3738 Q1521.11 36.3536 1519.59 37.7595 Q1518.07 39.1655 1514.65 42.1495 L1508.42 48.2036 L1519.01 48.2036 Q1524.18 48.2036 1524.58 47.7445 Q1525.15 46.9124 1525.87 42.5225 L1527.36 42.5225 L1525.7 52.737 L1503.89 52.737 Z\" fill=\"#000000\" fill-rule=\"nonzero\" fill-opacity=\"1\" /><polyline clip-path=\"url(#clip352)\" style=\"stroke:#009af9; stroke-linecap:round; stroke-linejoin:round; stroke-width:4; stroke-opacity:1; fill:none\" points=\"264.778,160.256 467.495,601.666 670.211,944.985 872.927,1190.21 1075.64,1337.35 1278.36,1386.4 1481.08,1337.35 1683.79,1190.21 1886.51,944.985 2089.22,601.666 2291.94,160.256 \"/>\n",
              "<circle clip-path=\"url(#clip352)\" cx=\"264.778\" cy=\"160.256\" r=\"14.4\" fill=\"#009af9\" fill-rule=\"evenodd\" fill-opacity=\"1\" stroke=\"#000000\" stroke-opacity=\"1\" stroke-width=\"3.2\"/>\n",
              "<circle clip-path=\"url(#clip352)\" cx=\"467.495\" cy=\"601.666\" r=\"14.4\" fill=\"#009af9\" fill-rule=\"evenodd\" fill-opacity=\"1\" stroke=\"#000000\" stroke-opacity=\"1\" stroke-width=\"3.2\"/>\n",
              "<circle clip-path=\"url(#clip352)\" cx=\"670.211\" cy=\"944.985\" r=\"14.4\" fill=\"#009af9\" fill-rule=\"evenodd\" fill-opacity=\"1\" stroke=\"#000000\" stroke-opacity=\"1\" stroke-width=\"3.2\"/>\n",
              "<circle clip-path=\"url(#clip352)\" cx=\"872.927\" cy=\"1190.21\" r=\"14.4\" fill=\"#009af9\" fill-rule=\"evenodd\" fill-opacity=\"1\" stroke=\"#000000\" stroke-opacity=\"1\" stroke-width=\"3.2\"/>\n",
              "<circle clip-path=\"url(#clip352)\" cx=\"1075.64\" cy=\"1337.35\" r=\"14.4\" fill=\"#009af9\" fill-rule=\"evenodd\" fill-opacity=\"1\" stroke=\"#000000\" stroke-opacity=\"1\" stroke-width=\"3.2\"/>\n",
              "<circle clip-path=\"url(#clip352)\" cx=\"1278.36\" cy=\"1386.4\" r=\"14.4\" fill=\"#009af9\" fill-rule=\"evenodd\" fill-opacity=\"1\" stroke=\"#000000\" stroke-opacity=\"1\" stroke-width=\"3.2\"/>\n",
              "<circle clip-path=\"url(#clip352)\" cx=\"1481.08\" cy=\"1337.35\" r=\"14.4\" fill=\"#009af9\" fill-rule=\"evenodd\" fill-opacity=\"1\" stroke=\"#000000\" stroke-opacity=\"1\" stroke-width=\"3.2\"/>\n",
              "<circle clip-path=\"url(#clip352)\" cx=\"1683.79\" cy=\"1190.21\" r=\"14.4\" fill=\"#009af9\" fill-rule=\"evenodd\" fill-opacity=\"1\" stroke=\"#000000\" stroke-opacity=\"1\" stroke-width=\"3.2\"/>\n",
              "<circle clip-path=\"url(#clip352)\" cx=\"1886.51\" cy=\"944.985\" r=\"14.4\" fill=\"#009af9\" fill-rule=\"evenodd\" fill-opacity=\"1\" stroke=\"#000000\" stroke-opacity=\"1\" stroke-width=\"3.2\"/>\n",
              "<circle clip-path=\"url(#clip352)\" cx=\"2089.22\" cy=\"601.666\" r=\"14.4\" fill=\"#009af9\" fill-rule=\"evenodd\" fill-opacity=\"1\" stroke=\"#000000\" stroke-opacity=\"1\" stroke-width=\"3.2\"/>\n",
              "<circle clip-path=\"url(#clip352)\" cx=\"2291.94\" cy=\"160.256\" r=\"14.4\" fill=\"#009af9\" fill-rule=\"evenodd\" fill-opacity=\"1\" stroke=\"#000000\" stroke-opacity=\"1\" stroke-width=\"3.2\"/>\n",
              "</svg>\n"
            ],
            "text/html": [
              "<?xml version=\"1.0\" encoding=\"utf-8\"?>\n",
              "<svg xmlns=\"http://www.w3.org/2000/svg\" xmlns:xlink=\"http://www.w3.org/1999/xlink\" width=\"600\" height=\"400\" viewBox=\"0 0 2400 1600\">\n",
              "<defs>\n",
              "  <clipPath id=\"clip400\">\n",
              "    <rect x=\"0\" y=\"0\" width=\"2400\" height=\"1600\"/>\n",
              "  </clipPath>\n",
              "</defs>\n",
              "<path clip-path=\"url(#clip400)\" d=\"M0 1600 L2400 1600 L2400 0 L0 0  Z\" fill=\"#ffffff\" fill-rule=\"evenodd\" fill-opacity=\"1\"/>\n",
              "<defs>\n",
              "  <clipPath id=\"clip401\">\n",
              "    <rect x=\"480\" y=\"0\" width=\"1681\" height=\"1600\"/>\n",
              "  </clipPath>\n",
              "</defs>\n",
              "<path clip-path=\"url(#clip400)\" d=\"M203.964 1423.18 L2352.76 1423.18 L2352.76 123.472 L203.964 123.472  Z\" fill=\"#ffffff\" fill-rule=\"evenodd\" fill-opacity=\"1\"/>\n",
              "<defs>\n",
              "  <clipPath id=\"clip402\">\n",
              "    <rect x=\"203\" y=\"123\" width=\"2150\" height=\"1301\"/>\n",
              "  </clipPath>\n",
              "</defs>\n",
              "<polyline clip-path=\"url(#clip402)\" style=\"stroke:#000000; stroke-linecap:round; stroke-linejoin:round; stroke-width:2; stroke-opacity:0.1; fill:none\" points=\"467.495,1423.18 467.495,123.472 \"/>\n",
              "<polyline clip-path=\"url(#clip402)\" style=\"stroke:#000000; stroke-linecap:round; stroke-linejoin:round; stroke-width:2; stroke-opacity:0.1; fill:none\" points=\"872.927,1423.18 872.927,123.472 \"/>\n",
              "<polyline clip-path=\"url(#clip402)\" style=\"stroke:#000000; stroke-linecap:round; stroke-linejoin:round; stroke-width:2; stroke-opacity:0.1; fill:none\" points=\"1278.36,1423.18 1278.36,123.472 \"/>\n",
              "<polyline clip-path=\"url(#clip402)\" style=\"stroke:#000000; stroke-linecap:round; stroke-linejoin:round; stroke-width:2; stroke-opacity:0.1; fill:none\" points=\"1683.79,1423.18 1683.79,123.472 \"/>\n",
              "<polyline clip-path=\"url(#clip402)\" style=\"stroke:#000000; stroke-linecap:round; stroke-linejoin:round; stroke-width:2; stroke-opacity:0.1; fill:none\" points=\"2089.22,1423.18 2089.22,123.472 \"/>\n",
              "<polyline clip-path=\"url(#clip400)\" style=\"stroke:#000000; stroke-linecap:round; stroke-linejoin:round; stroke-width:4; stroke-opacity:1; fill:none\" points=\"203.964,1423.18 2352.76,1423.18 \"/>\n",
              "<polyline clip-path=\"url(#clip400)\" style=\"stroke:#000000; stroke-linecap:round; stroke-linejoin:round; stroke-width:4; stroke-opacity:1; fill:none\" points=\"467.495,1423.18 467.495,1404.28 \"/>\n",
              "<polyline clip-path=\"url(#clip400)\" style=\"stroke:#000000; stroke-linecap:round; stroke-linejoin:round; stroke-width:4; stroke-opacity:1; fill:none\" points=\"872.927,1423.18 872.927,1404.28 \"/>\n",
              "<polyline clip-path=\"url(#clip400)\" style=\"stroke:#000000; stroke-linecap:round; stroke-linejoin:round; stroke-width:4; stroke-opacity:1; fill:none\" points=\"1278.36,1423.18 1278.36,1404.28 \"/>\n",
              "<polyline clip-path=\"url(#clip400)\" style=\"stroke:#000000; stroke-linecap:round; stroke-linejoin:round; stroke-width:4; stroke-opacity:1; fill:none\" points=\"1683.79,1423.18 1683.79,1404.28 \"/>\n",
              "<polyline clip-path=\"url(#clip400)\" style=\"stroke:#000000; stroke-linecap:round; stroke-linejoin:round; stroke-width:4; stroke-opacity:1; fill:none\" points=\"2089.22,1423.18 2089.22,1404.28 \"/>\n",
              "<path clip-path=\"url(#clip400)\" d=\"M436.395 1468.75 L466.071 1468.75 L466.071 1472.69 L436.395 1472.69 L436.395 1468.75 Z\" fill=\"#000000\" fill-rule=\"nonzero\" fill-opacity=\"1\" /><path clip-path=\"url(#clip400)\" d=\"M489.011 1455.09 L477.205 1473.54 L489.011 1473.54 L489.011 1455.09 M487.784 1451.02 L493.664 1451.02 L493.664 1473.54 L498.594 1473.54 L498.594 1477.43 L493.664 1477.43 L493.664 1485.58 L489.011 1485.58 L489.011 1477.43 L473.409 1477.43 L473.409 1472.92 L487.784 1451.02 Z\" fill=\"#000000\" fill-rule=\"nonzero\" fill-opacity=\"1\" /><path clip-path=\"url(#clip400)\" d=\"M842.87 1468.75 L872.545 1468.75 L872.545 1472.69 L842.87 1472.69 L842.87 1468.75 Z\" fill=\"#000000\" fill-rule=\"nonzero\" fill-opacity=\"1\" /><path clip-path=\"url(#clip400)\" d=\"M886.666 1481.64 L902.985 1481.64 L902.985 1485.58 L881.041 1485.58 L881.041 1481.64 Q883.703 1478.89 888.286 1474.26 Q892.892 1469.61 894.073 1468.27 Q896.318 1465.74 897.198 1464.01 Q898.101 1462.25 898.101 1460.56 Q898.101 1457.8 896.156 1456.07 Q894.235 1454.33 891.133 1454.33 Q888.934 1454.33 886.48 1455.09 Q884.05 1455.86 881.272 1457.41 L881.272 1452.69 Q884.096 1451.55 886.55 1450.97 Q889.004 1450.39 891.041 1450.39 Q896.411 1450.39 899.605 1453.08 Q902.8 1455.77 902.8 1460.26 Q902.8 1462.39 901.99 1464.31 Q901.203 1466.2 899.096 1468.8 Q898.517 1469.47 895.416 1472.69 Q892.314 1475.88 886.666 1481.64 Z\" fill=\"#000000\" fill-rule=\"nonzero\" fill-opacity=\"1\" /><path clip-path=\"url(#clip400)\" d=\"M1278.36 1454.1 Q1274.75 1454.1 1272.92 1457.66 Q1271.11 1461.2 1271.11 1468.33 Q1271.11 1475.44 1272.92 1479.01 Q1274.75 1482.55 1278.36 1482.55 Q1281.99 1482.55 1283.8 1479.01 Q1285.63 1475.44 1285.63 1468.33 Q1285.63 1461.2 1283.8 1457.66 Q1281.99 1454.1 1278.36 1454.1 M1278.36 1450.39 Q1284.17 1450.39 1287.23 1455 Q1290.3 1459.58 1290.3 1468.33 Q1290.3 1477.06 1287.23 1481.67 Q1284.17 1486.25 1278.36 1486.25 Q1272.55 1486.25 1269.47 1481.67 Q1266.42 1477.06 1266.42 1468.33 Q1266.42 1459.58 1269.47 1455 Q1272.55 1450.39 1278.36 1450.39 Z\" fill=\"#000000\" fill-rule=\"nonzero\" fill-opacity=\"1\" /><path clip-path=\"url(#clip400)\" d=\"M1678.45 1481.64 L1694.76 1481.64 L1694.76 1485.58 L1672.82 1485.58 L1672.82 1481.64 Q1675.48 1478.89 1680.07 1474.26 Q1684.67 1469.61 1685.85 1468.27 Q1688.1 1465.74 1688.98 1464.01 Q1689.88 1462.25 1689.88 1460.56 Q1689.88 1457.8 1687.94 1456.07 Q1686.01 1454.33 1682.91 1454.33 Q1680.71 1454.33 1678.26 1455.09 Q1675.83 1455.86 1673.05 1457.41 L1673.05 1452.69 Q1675.88 1451.55 1678.33 1450.97 Q1680.78 1450.39 1682.82 1450.39 Q1688.19 1450.39 1691.38 1453.08 Q1694.58 1455.77 1694.58 1460.26 Q1694.58 1462.39 1693.77 1464.31 Q1692.98 1466.2 1690.88 1468.8 Q1690.3 1469.47 1687.2 1472.69 Q1684.09 1475.88 1678.45 1481.64 Z\" fill=\"#000000\" fill-rule=\"nonzero\" fill-opacity=\"1\" /><path clip-path=\"url(#clip400)\" d=\"M2092.23 1455.09 L2080.43 1473.54 L2092.23 1473.54 L2092.23 1455.09 M2091.01 1451.02 L2096.89 1451.02 L2096.89 1473.54 L2101.82 1473.54 L2101.82 1477.43 L2096.89 1477.43 L2096.89 1485.58 L2092.23 1485.58 L2092.23 1477.43 L2076.63 1477.43 L2076.63 1472.92 L2091.01 1451.02 Z\" fill=\"#000000\" fill-rule=\"nonzero\" fill-opacity=\"1\" /><path clip-path=\"url(#clip400)\" d=\"M1294.97 1532.4 L1282.08 1549.74 L1295.64 1568.04 L1288.74 1568.04 L1278.36 1554.04 L1267.98 1568.04 L1261.08 1568.04 L1274.92 1549.39 L1262.25 1532.4 L1269.16 1532.4 L1278.61 1545.1 L1288.07 1532.4 L1294.97 1532.4 Z\" fill=\"#000000\" fill-rule=\"nonzero\" fill-opacity=\"1\" /><polyline clip-path=\"url(#clip402)\" style=\"stroke:#000000; stroke-linecap:round; stroke-linejoin:round; stroke-width:2; stroke-opacity:0.1; fill:none\" points=\"203.964,1386.4 2352.76,1386.4 \"/>\n",
              "<polyline clip-path=\"url(#clip402)\" style=\"stroke:#000000; stroke-linecap:round; stroke-linejoin:round; stroke-width:2; stroke-opacity:0.1; fill:none\" points=\"203.964,1141.17 2352.76,1141.17 \"/>\n",
              "<polyline clip-path=\"url(#clip402)\" style=\"stroke:#000000; stroke-linecap:round; stroke-linejoin:round; stroke-width:2; stroke-opacity:0.1; fill:none\" points=\"203.964,895.94 2352.76,895.94 \"/>\n",
              "<polyline clip-path=\"url(#clip402)\" style=\"stroke:#000000; stroke-linecap:round; stroke-linejoin:round; stroke-width:2; stroke-opacity:0.1; fill:none\" points=\"203.964,650.712 2352.76,650.712 \"/>\n",
              "<polyline clip-path=\"url(#clip402)\" style=\"stroke:#000000; stroke-linecap:round; stroke-linejoin:round; stroke-width:2; stroke-opacity:0.1; fill:none\" points=\"203.964,405.484 2352.76,405.484 \"/>\n",
              "<polyline clip-path=\"url(#clip402)\" style=\"stroke:#000000; stroke-linecap:round; stroke-linejoin:round; stroke-width:2; stroke-opacity:0.1; fill:none\" points=\"203.964,160.256 2352.76,160.256 \"/>\n",
              "<polyline clip-path=\"url(#clip400)\" style=\"stroke:#000000; stroke-linecap:round; stroke-linejoin:round; stroke-width:4; stroke-opacity:1; fill:none\" points=\"203.964,1423.18 203.964,123.472 \"/>\n",
              "<polyline clip-path=\"url(#clip400)\" style=\"stroke:#000000; stroke-linecap:round; stroke-linejoin:round; stroke-width:4; stroke-opacity:1; fill:none\" points=\"203.964,1386.4 222.861,1386.4 \"/>\n",
              "<polyline clip-path=\"url(#clip400)\" style=\"stroke:#000000; stroke-linecap:round; stroke-linejoin:round; stroke-width:4; stroke-opacity:1; fill:none\" points=\"203.964,1141.17 222.861,1141.17 \"/>\n",
              "<polyline clip-path=\"url(#clip400)\" style=\"stroke:#000000; stroke-linecap:round; stroke-linejoin:round; stroke-width:4; stroke-opacity:1; fill:none\" points=\"203.964,895.94 222.861,895.94 \"/>\n",
              "<polyline clip-path=\"url(#clip400)\" style=\"stroke:#000000; stroke-linecap:round; stroke-linejoin:round; stroke-width:4; stroke-opacity:1; fill:none\" points=\"203.964,650.712 222.861,650.712 \"/>\n",
              "<polyline clip-path=\"url(#clip400)\" style=\"stroke:#000000; stroke-linecap:round; stroke-linejoin:round; stroke-width:4; stroke-opacity:1; fill:none\" points=\"203.964,405.484 222.861,405.484 \"/>\n",
              "<polyline clip-path=\"url(#clip400)\" style=\"stroke:#000000; stroke-linecap:round; stroke-linejoin:round; stroke-width:4; stroke-opacity:1; fill:none\" points=\"203.964,160.256 222.861,160.256 \"/>\n",
              "<path clip-path=\"url(#clip400)\" d=\"M156.019 1372.19 Q152.408 1372.19 150.579 1375.76 Q148.774 1379.3 148.774 1386.43 Q148.774 1393.54 150.579 1397.1 Q152.408 1400.64 156.019 1400.64 Q159.653 1400.64 161.459 1397.1 Q163.288 1393.54 163.288 1386.43 Q163.288 1379.3 161.459 1375.76 Q159.653 1372.19 156.019 1372.19 M156.019 1368.49 Q161.829 1368.49 164.885 1373.1 Q167.964 1377.68 167.964 1386.43 Q167.964 1395.16 164.885 1399.76 Q161.829 1404.35 156.019 1404.35 Q150.209 1404.35 147.13 1399.76 Q144.075 1395.16 144.075 1386.43 Q144.075 1377.68 147.13 1373.1 Q150.209 1368.49 156.019 1368.49 Z\" fill=\"#000000\" fill-rule=\"nonzero\" fill-opacity=\"1\" /><path clip-path=\"url(#clip400)\" d=\"M147.061 1123.89 L165.417 1123.89 L165.417 1127.82 L151.343 1127.82 L151.343 1136.3 Q152.362 1135.95 153.38 1135.79 Q154.399 1135.6 155.417 1135.6 Q161.204 1135.6 164.584 1138.77 Q167.964 1141.94 167.964 1147.36 Q167.964 1152.94 164.491 1156.04 Q161.019 1159.12 154.7 1159.12 Q152.524 1159.12 150.255 1158.75 Q148.01 1158.38 145.603 1157.64 L145.603 1152.94 Q147.686 1154.07 149.908 1154.63 Q152.13 1155.18 154.607 1155.18 Q158.612 1155.18 160.95 1153.08 Q163.288 1150.97 163.288 1147.36 Q163.288 1143.75 160.95 1141.64 Q158.612 1139.54 154.607 1139.54 Q152.732 1139.54 150.857 1139.95 Q149.005 1140.37 147.061 1141.25 L147.061 1123.89 Z\" fill=\"#000000\" fill-rule=\"nonzero\" fill-opacity=\"1\" /><path clip-path=\"url(#clip400)\" d=\"M116.668 909.285 L124.306 909.285 L124.306 882.919 L115.996 884.586 L115.996 880.327 L124.26 878.66 L128.936 878.66 L128.936 909.285 L136.575 909.285 L136.575 913.22 L116.668 913.22 L116.668 909.285 Z\" fill=\"#000000\" fill-rule=\"nonzero\" fill-opacity=\"1\" /><path clip-path=\"url(#clip400)\" d=\"M156.019 881.739 Q152.408 881.739 150.579 885.303 Q148.774 888.845 148.774 895.975 Q148.774 903.081 150.579 906.646 Q152.408 910.188 156.019 910.188 Q159.653 910.188 161.459 906.646 Q163.288 903.081 163.288 895.975 Q163.288 888.845 161.459 885.303 Q159.653 881.739 156.019 881.739 M156.019 878.035 Q161.829 878.035 164.885 882.641 Q167.964 887.225 167.964 895.975 Q167.964 904.701 164.885 909.308 Q161.829 913.891 156.019 913.891 Q150.209 913.891 147.13 909.308 Q144.075 904.701 144.075 895.975 Q144.075 887.225 147.13 882.641 Q150.209 878.035 156.019 878.035 Z\" fill=\"#000000\" fill-rule=\"nonzero\" fill-opacity=\"1\" /><path clip-path=\"url(#clip400)\" d=\"M117.663 664.057 L125.302 664.057 L125.302 637.691 L116.992 639.358 L116.992 635.099 L125.255 633.432 L129.931 633.432 L129.931 664.057 L137.57 664.057 L137.57 667.992 L117.663 667.992 L117.663 664.057 Z\" fill=\"#000000\" fill-rule=\"nonzero\" fill-opacity=\"1\" /><path clip-path=\"url(#clip400)\" d=\"M147.061 633.432 L165.417 633.432 L165.417 637.367 L151.343 637.367 L151.343 645.839 Q152.362 645.492 153.38 645.33 Q154.399 645.145 155.417 645.145 Q161.204 645.145 164.584 648.316 Q167.964 651.488 167.964 656.904 Q167.964 662.483 164.491 665.585 Q161.019 668.663 154.7 668.663 Q152.524 668.663 150.255 668.293 Q148.01 667.923 145.603 667.182 L145.603 662.483 Q147.686 663.617 149.908 664.173 Q152.13 664.728 154.607 664.728 Q158.612 664.728 160.95 662.622 Q163.288 660.515 163.288 656.904 Q163.288 653.293 160.95 651.187 Q158.612 649.08 154.607 649.08 Q152.732 649.08 150.857 649.497 Q149.005 649.913 147.061 650.793 L147.061 633.432 Z\" fill=\"#000000\" fill-rule=\"nonzero\" fill-opacity=\"1\" /><path clip-path=\"url(#clip400)\" d=\"M119.885 418.829 L136.204 418.829 L136.204 422.764 L114.26 422.764 L114.26 418.829 Q116.922 416.074 121.505 411.445 Q126.112 406.792 127.292 405.449 Q129.538 402.926 130.417 401.19 Q131.32 399.431 131.32 397.741 Q131.32 394.987 129.376 393.25 Q127.455 391.514 124.353 391.514 Q122.154 391.514 119.7 392.278 Q117.269 393.042 114.492 394.593 L114.492 389.871 Q117.316 388.737 119.769 388.158 Q122.223 387.579 124.26 387.579 Q129.63 387.579 132.825 390.264 Q136.019 392.95 136.019 397.44 Q136.019 399.57 135.209 401.491 Q134.422 403.389 132.316 405.982 Q131.737 406.653 128.635 409.871 Q125.533 413.065 119.885 418.829 Z\" fill=\"#000000\" fill-rule=\"nonzero\" fill-opacity=\"1\" /><path clip-path=\"url(#clip400)\" d=\"M156.019 391.283 Q152.408 391.283 150.579 394.848 Q148.774 398.389 148.774 405.519 Q148.774 412.625 150.579 416.19 Q152.408 419.732 156.019 419.732 Q159.653 419.732 161.459 416.19 Q163.288 412.625 163.288 405.519 Q163.288 398.389 161.459 394.848 Q159.653 391.283 156.019 391.283 M156.019 387.579 Q161.829 387.579 164.885 392.186 Q167.964 396.769 167.964 405.519 Q167.964 414.246 164.885 418.852 Q161.829 423.435 156.019 423.435 Q150.209 423.435 147.13 418.852 Q144.075 414.246 144.075 405.519 Q144.075 396.769 147.13 392.186 Q150.209 387.579 156.019 387.579 Z\" fill=\"#000000\" fill-rule=\"nonzero\" fill-opacity=\"1\" /><path clip-path=\"url(#clip400)\" d=\"M120.88 173.601 L137.2 173.601 L137.2 177.536 L115.256 177.536 L115.256 173.601 Q117.918 170.847 122.501 166.217 Q127.107 161.564 128.288 160.222 Q130.533 157.698 131.413 155.962 Q132.316 154.203 132.316 152.513 Q132.316 149.759 130.371 148.023 Q128.45 146.286 125.348 146.286 Q123.149 146.286 120.695 147.05 Q118.265 147.814 115.487 149.365 L115.487 144.643 Q118.311 143.509 120.765 142.93 Q123.218 142.351 125.255 142.351 Q130.626 142.351 133.82 145.036 Q137.015 147.722 137.015 152.212 Q137.015 154.342 136.204 156.263 Q135.417 158.161 133.311 160.754 Q132.732 161.425 129.63 164.643 Q126.529 167.837 120.88 173.601 Z\" fill=\"#000000\" fill-rule=\"nonzero\" fill-opacity=\"1\" /><path clip-path=\"url(#clip400)\" d=\"M147.061 142.976 L165.417 142.976 L165.417 146.911 L151.343 146.911 L151.343 155.384 Q152.362 155.036 153.38 154.874 Q154.399 154.689 155.417 154.689 Q161.204 154.689 164.584 157.86 Q167.964 161.032 167.964 166.448 Q167.964 172.027 164.491 175.129 Q161.019 178.208 154.7 178.208 Q152.524 178.208 150.255 177.837 Q148.01 177.467 145.603 176.726 L145.603 172.027 Q147.686 173.161 149.908 173.717 Q152.13 174.272 154.607 174.272 Q158.612 174.272 160.95 172.166 Q163.288 170.059 163.288 166.448 Q163.288 162.837 160.95 160.731 Q158.612 158.624 154.607 158.624 Q152.732 158.624 150.857 159.041 Q149.005 159.458 147.061 160.337 L147.061 142.976 Z\" fill=\"#000000\" fill-rule=\"nonzero\" fill-opacity=\"1\" /><path clip-path=\"url(#clip400)\" d=\"M67.3143 771.639 Q73.68 774.122 75.6216 776.477 Q77.5631 778.832 77.5631 782.779 L77.5631 787.458 L72.6615 787.458 L72.6615 784.02 Q72.6615 781.601 71.5157 780.265 Q70.3699 778.928 66.1048 777.305 L63.4312 776.254 L28.3562 790.673 L28.3562 784.466 L56.238 773.326 L28.3562 762.186 L28.3562 755.979 L67.3143 771.639 Z\" fill=\"#000000\" fill-rule=\"nonzero\" fill-opacity=\"1\" /><path clip-path=\"url(#clip400)\" d=\"M1028.81 24.0871 L1028.81 46.8127 L1039.1 46.8127 Q1044.81 46.8127 1047.93 43.8555 Q1051.05 40.8984 1051.05 35.4297 Q1051.05 30.0014 1047.93 27.0443 Q1044.81 24.0871 1039.1 24.0871 L1028.81 24.0871 M1020.63 17.3626 L1039.1 17.3626 Q1049.27 17.3626 1054.45 21.9807 Q1059.68 26.5582 1059.68 35.4297 Q1059.68 44.3822 1054.45 48.9597 Q1049.27 53.5372 1039.1 53.5372 L1028.81 53.5372 L1028.81 77.8426 L1020.63 77.8426 L1020.63 17.3626 Z\" fill=\"#000000\" fill-rule=\"nonzero\" fill-opacity=\"1\" /><path clip-path=\"url(#clip400)\" d=\"M1070.33 14.8106 L1077.78 14.8106 L1077.78 77.8426 L1070.33 77.8426 L1070.33 14.8106 Z\" fill=\"#000000\" fill-rule=\"nonzero\" fill-opacity=\"1\" /><path clip-path=\"url(#clip400)\" d=\"M1110.96 37.6982 Q1104.97 37.6982 1101.48 42.3972 Q1098 47.0558 1098 55.1981 Q1098 63.3404 1101.44 68.0394 Q1104.93 72.698 1110.96 72.698 Q1116.92 72.698 1120.4 67.9989 Q1123.88 63.2999 1123.88 55.1981 Q1123.88 47.1368 1120.4 42.4377 Q1116.92 37.6982 1110.96 37.6982 M1110.96 31.3788 Q1120.68 31.3788 1126.23 37.6982 Q1131.78 44.0176 1131.78 55.1981 Q1131.78 66.3381 1126.23 72.698 Q1120.68 79.0174 1110.96 79.0174 Q1101.2 79.0174 1095.65 72.698 Q1090.14 66.3381 1090.14 55.1981 Q1090.14 44.0176 1095.65 37.6982 Q1101.2 31.3788 1110.96 31.3788 Z\" fill=\"#000000\" fill-rule=\"nonzero\" fill-opacity=\"1\" /><path clip-path=\"url(#clip400)\" d=\"M1151.51 19.5906 L1151.51 32.4725 L1166.86 32.4725 L1166.86 38.2653 L1151.51 38.2653 L1151.51 62.8948 Q1151.51 68.4445 1153.01 70.0244 Q1154.55 71.6042 1159.21 71.6042 L1166.86 71.6042 L1166.86 77.8426 L1159.21 77.8426 Q1150.58 77.8426 1147.3 74.6424 Q1144.02 71.4017 1144.02 62.8948 L1144.02 38.2653 L1138.55 38.2653 L1138.55 32.4725 L1144.02 32.4725 L1144.02 19.5906 L1151.51 19.5906 Z\" fill=\"#000000\" fill-rule=\"nonzero\" fill-opacity=\"1\" /><path clip-path=\"url(#clip400)\" d=\"M1220.62 37.6982 Q1214.62 37.6982 1211.14 42.3972 Q1207.66 47.0558 1207.66 55.1981 Q1207.66 63.3404 1211.1 68.0394 Q1214.58 72.698 1220.62 72.698 Q1226.57 72.698 1230.06 67.9989 Q1233.54 63.2999 1233.54 55.1981 Q1233.54 47.1368 1230.06 42.4377 Q1226.57 37.6982 1220.62 37.6982 M1220.62 31.3788 Q1230.34 31.3788 1235.89 37.6982 Q1241.44 44.0176 1241.44 55.1981 Q1241.44 66.3381 1235.89 72.698 Q1230.34 79.0174 1220.62 79.0174 Q1210.86 79.0174 1205.31 72.698 Q1199.8 66.3381 1199.8 55.1981 Q1199.8 44.0176 1205.31 37.6982 Q1210.86 31.3788 1220.62 31.3788 Z\" fill=\"#000000\" fill-rule=\"nonzero\" fill-opacity=\"1\" /><path clip-path=\"url(#clip400)\" d=\"M1276.76 14.8106 L1276.76 21.0084 L1269.64 21.0084 Q1265.62 21.0084 1264.05 22.6288 Q1262.51 24.2492 1262.51 28.4621 L1262.51 32.4725 L1274.78 32.4725 L1274.78 38.2653 L1262.51 38.2653 L1262.51 77.8426 L1255.01 77.8426 L1255.01 38.2653 L1247.88 38.2653 L1247.88 32.4725 L1255.01 32.4725 L1255.01 29.3128 Q1255.01 21.7376 1258.54 18.2943 Q1262.06 14.8106 1269.72 14.8106 L1276.76 14.8106 Z\" fill=\"#000000\" fill-rule=\"nonzero\" fill-opacity=\"1\" /><path clip-path=\"url(#clip400)\" d=\"M1340.29 43.9445 Q1340.29 44.5183 1339.92 45.871 L1331.89 77.9246 Q1330.13 85.0567 1324.39 90.0574 Q1318.69 95.0581 1312.21 95.0581 Q1308.32 95.0581 1305.82 92.9677 Q1303.32 90.9182 1303.32 87.762 Q1303.32 84.9748 1304.79 83.6221 Q1306.27 82.3105 1308.03 82.3105 Q1308.61 82.3105 1309.22 82.4744 Q1309.84 82.6384 1310.49 83.3352 Q1311.15 84.032 1311.15 85.2207 Q1311.15 87.1472 1309.47 88.6638 Q1308.65 89.3606 1307.87 89.5246 Q1307.13 89.6885 1305.86 89.6885 Q1306.35 90.8362 1307.25 91.615 Q1308.16 92.3938 1309.18 92.6807 Q1310.21 93.0087 1310.86 93.0906 Q1311.56 93.2136 1312.21 93.2136 Q1317.46 93.2136 1321.48 87.926 Q1322.67 86.3274 1323.53 84.7288 Q1324.43 83.1712 1325.08 81.2447 Q1325.74 79.3592 1326.03 78.3345 Q1326.36 77.3098 1326.93 74.9734 Q1323.12 78.7854 1318.44 78.7854 Q1316.48 78.7854 1314.71 78.2525 Q1312.99 77.7197 1311.48 76.6129 Q1309.96 75.4652 1309.06 73.4568 Q1308.2 71.4483 1308.2 68.784 Q1308.2 65.9557 1309.3 62.1027 Q1310.41 58.2498 1313.07 51.1586 Q1314.51 47.1826 1314.51 45.2561 Q1314.51 44.3134 1314.3 43.7395 Q1314.1 43.1247 1313.69 42.9198 Q1313.28 42.6738 1313.03 42.6328 Q1312.83 42.5918 1312.42 42.5918 Q1310 42.5918 1307.75 45.0512 Q1305.49 47.5106 1303.93 53.0031 Q1303.61 54.0279 1303.4 54.2738 Q1303.2 54.5197 1302.58 54.5197 Q1301.56 54.4787 1301.56 53.659 Q1301.56 53.331 1301.93 52.0604 Q1302.29 50.7487 1303.16 48.8222 Q1304.06 46.8547 1305.29 45.0922 Q1306.52 43.2887 1308.44 42.018 Q1310.41 40.7473 1312.66 40.7473 Q1315.74 40.7473 1317.62 42.7558 Q1319.55 44.7233 1319.55 47.6335 Q1319.55 48.8222 1319.22 49.8879 Q1318.94 50.9127 1317.87 53.659 Q1313.57 64.7261 1313.57 70.1366 Q1313.57 71.4483 1313.77 72.555 Q1314.02 73.6207 1314.55 74.6865 Q1315.08 75.7112 1316.15 76.326 Q1317.26 76.8999 1318.77 76.8999 Q1320.7 76.8999 1322.5 75.9981 Q1324.35 75.0554 1325.49 73.7847 Q1326.68 72.514 1327.38 71.4483 Q1328.12 70.3416 1328.28 69.7677 L1332.05 54.6837 L1333.73 47.9614 Q1334.51 44.3134 1334.88 43.4116 Q1335.37 42.5509 1336.23 42.1 Q1337.09 41.6491 1337.83 41.6491 Q1338.86 41.6491 1339.55 42.2639 Q1340.29 42.8788 1340.29 43.9445 Z\" fill=\"#000000\" fill-rule=\"nonzero\" fill-opacity=\"1\" /><path clip-path=\"url(#clip400)\" d=\"M1365.56 65.095 Q1365.65 64.0702 1367.25 64.0702 L1418.69 64.0702 Q1421.11 64.0702 1421.15 65.013 Q1421.15 66.0377 1418.85 65.9967 L1367.82 65.9967 Q1365.56 66.0377 1365.56 65.095 M1365.56 48.6992 Q1365.56 47.6745 1367.33 47.7155 L1418.6 47.7155 Q1421.11 47.7155 1421.15 48.6992 Q1421.15 49.642 1419.01 49.642 L1367.25 49.642 Q1365.56 49.642 1365.56 48.6992 Z\" fill=\"#000000\" fill-rule=\"nonzero\" fill-opacity=\"1\" /><path clip-path=\"url(#clip400)\" d=\"M1495.33 46.2809 Q1495.33 48.5763 1493.9 49.8879 Q1492.46 51.1586 1490.82 51.1586 Q1489.27 51.1586 1488.45 50.2568 Q1487.63 49.3551 1487.63 48.2074 Q1487.63 46.6498 1488.78 45.2971 Q1489.92 43.9445 1491.64 43.6576 Q1489.96 42.5918 1487.46 42.5918 Q1485.82 42.5918 1484.39 43.4526 Q1483 44.3134 1482.14 45.4201 Q1481.32 46.5268 1480.58 48.1254 Q1479.88 49.683 1479.59 50.6257 Q1479.35 51.5275 1479.14 52.5113 L1476.27 63.9882 Q1474.88 69.4398 1474.88 71.3663 Q1474.88 73.7437 1476.03 75.3423 Q1477.18 76.8999 1479.47 76.8999 Q1480.37 76.8999 1481.4 76.6539 Q1482.42 76.367 1483.73 75.6292 Q1485.09 74.8504 1486.28 73.7027 Q1487.5 72.514 1488.69 70.5055 Q1489.88 68.4971 1490.66 65.9147 Q1490.91 65.013 1491.73 65.013 Q1492.75 65.013 1492.75 65.8328 Q1492.75 66.5296 1492.18 68.0052 Q1491.64 69.4398 1490.46 71.3253 Q1489.31 73.1698 1487.79 74.8504 Q1486.28 76.49 1484.02 77.6377 Q1481.77 78.7854 1479.31 78.7854 Q1475.78 78.7854 1473.45 76.8999 Q1471.11 75.0144 1470.25 72.3911 Q1470.04 72.76 1469.76 73.2518 Q1469.47 73.7437 1468.61 74.8504 Q1467.79 75.9161 1466.85 76.7359 Q1465.9 77.5147 1464.43 78.1295 Q1462.99 78.7854 1461.44 78.7854 Q1459.47 78.7854 1457.71 78.2115 Q1455.98 77.6377 1454.75 76.326 Q1453.52 75.0144 1453.52 73.2108 Q1453.52 71.2024 1454.88 69.8087 Q1456.27 68.3741 1458.16 68.3741 Q1459.35 68.3741 1460.29 69.0709 Q1461.27 69.7677 1461.27 71.2843 Q1461.27 72.9649 1460.12 74.2356 Q1458.98 75.5062 1457.34 75.8342 Q1459.02 76.8999 1461.52 76.8999 Q1464.22 76.8999 1466.35 74.5225 Q1468.49 72.1451 1469.51 68.1692 Q1472.05 58.6187 1473.04 54.3558 Q1474.02 50.0519 1474.02 48.2074 Q1474.02 46.4858 1473.57 45.2971 Q1473.12 44.1084 1472.34 43.5756 Q1471.6 43.0017 1470.9 42.7968 Q1470.25 42.5918 1469.51 42.5918 Q1468.28 42.5918 1466.89 43.0837 Q1465.53 43.5756 1463.9 44.7233 Q1462.3 45.83 1460.78 48.1254 Q1459.26 50.4208 1458.24 53.577 Q1458.03 54.5197 1457.13 54.5197 Q1456.15 54.4787 1456.15 53.659 Q1456.15 52.9621 1456.68 51.5275 Q1457.25 50.0519 1458.4 48.2074 Q1459.59 46.3629 1461.11 44.7233 Q1462.67 43.0427 1464.92 41.895 Q1467.22 40.7473 1469.67 40.7473 Q1470.78 40.7473 1471.85 40.9933 Q1472.95 41.1982 1474.27 41.813 Q1475.62 42.4279 1476.81 43.7805 Q1478 45.1332 1478.73 47.1007 Q1479.23 46.1579 1479.88 45.2561 Q1480.58 44.3544 1481.64 43.2477 Q1482.75 42.1 1484.27 41.4441 Q1485.82 40.7473 1487.55 40.7473 Q1489.23 40.7473 1490.87 41.1982 Q1492.51 41.6081 1493.9 42.9607 Q1495.33 44.2724 1495.33 46.2809 Z\" fill=\"#000000\" fill-rule=\"nonzero\" fill-opacity=\"1\" /><path clip-path=\"url(#clip400)\" d=\"M1503.89 52.737 Q1503.89 51.6754 1503.98 51.3598 Q1504.09 51.0441 1504.55 50.5564 L1515.83 37.9891 Q1522 31.0455 1522 24.9914 Q1522 21.0605 1519.93 18.2486 Q1517.89 15.4368 1514.13 15.4368 Q1511.55 15.4368 1509.37 17.0148 Q1507.19 18.5929 1506.19 21.4048 Q1506.36 21.3474 1506.96 21.3474 Q1508.42 21.3474 1509.23 22.2656 Q1510.06 23.1837 1510.06 24.4175 Q1510.06 25.9956 1509.03 26.7703 Q1508.02 27.5163 1507.02 27.5163 Q1506.62 27.5163 1506.07 27.4302 Q1505.56 27.3441 1504.72 26.5408 Q1503.89 25.7087 1503.89 24.2454 Q1503.89 20.1423 1506.99 16.8714 Q1510.12 13.6004 1514.88 13.6004 Q1520.27 13.6004 1523.8 16.814 Q1527.36 19.9989 1527.36 24.9914 Q1527.36 26.7416 1526.82 28.3484 Q1526.3 29.9265 1525.58 31.1602 Q1524.89 32.394 1523 34.3738 Q1521.11 36.3536 1519.59 37.7595 Q1518.07 39.1655 1514.65 42.1495 L1508.42 48.2036 L1519.01 48.2036 Q1524.18 48.2036 1524.58 47.7445 Q1525.15 46.9124 1525.87 42.5225 L1527.36 42.5225 L1525.7 52.737 L1503.89 52.737 Z\" fill=\"#000000\" fill-rule=\"nonzero\" fill-opacity=\"1\" /><polyline clip-path=\"url(#clip402)\" style=\"stroke:#009af9; stroke-linecap:round; stroke-linejoin:round; stroke-width:4; stroke-opacity:1; fill:none\" points=\"264.778,160.256 467.495,601.666 670.211,944.985 872.927,1190.21 1075.64,1337.35 1278.36,1386.4 1481.08,1337.35 1683.79,1190.21 1886.51,944.985 2089.22,601.666 2291.94,160.256 \"/>\n",
              "<circle clip-path=\"url(#clip402)\" cx=\"264.778\" cy=\"160.256\" r=\"14.4\" fill=\"#009af9\" fill-rule=\"evenodd\" fill-opacity=\"1\" stroke=\"#000000\" stroke-opacity=\"1\" stroke-width=\"3.2\"/>\n",
              "<circle clip-path=\"url(#clip402)\" cx=\"467.495\" cy=\"601.666\" r=\"14.4\" fill=\"#009af9\" fill-rule=\"evenodd\" fill-opacity=\"1\" stroke=\"#000000\" stroke-opacity=\"1\" stroke-width=\"3.2\"/>\n",
              "<circle clip-path=\"url(#clip402)\" cx=\"670.211\" cy=\"944.985\" r=\"14.4\" fill=\"#009af9\" fill-rule=\"evenodd\" fill-opacity=\"1\" stroke=\"#000000\" stroke-opacity=\"1\" stroke-width=\"3.2\"/>\n",
              "<circle clip-path=\"url(#clip402)\" cx=\"872.927\" cy=\"1190.21\" r=\"14.4\" fill=\"#009af9\" fill-rule=\"evenodd\" fill-opacity=\"1\" stroke=\"#000000\" stroke-opacity=\"1\" stroke-width=\"3.2\"/>\n",
              "<circle clip-path=\"url(#clip402)\" cx=\"1075.64\" cy=\"1337.35\" r=\"14.4\" fill=\"#009af9\" fill-rule=\"evenodd\" fill-opacity=\"1\" stroke=\"#000000\" stroke-opacity=\"1\" stroke-width=\"3.2\"/>\n",
              "<circle clip-path=\"url(#clip402)\" cx=\"1278.36\" cy=\"1386.4\" r=\"14.4\" fill=\"#009af9\" fill-rule=\"evenodd\" fill-opacity=\"1\" stroke=\"#000000\" stroke-opacity=\"1\" stroke-width=\"3.2\"/>\n",
              "<circle clip-path=\"url(#clip402)\" cx=\"1481.08\" cy=\"1337.35\" r=\"14.4\" fill=\"#009af9\" fill-rule=\"evenodd\" fill-opacity=\"1\" stroke=\"#000000\" stroke-opacity=\"1\" stroke-width=\"3.2\"/>\n",
              "<circle clip-path=\"url(#clip402)\" cx=\"1683.79\" cy=\"1190.21\" r=\"14.4\" fill=\"#009af9\" fill-rule=\"evenodd\" fill-opacity=\"1\" stroke=\"#000000\" stroke-opacity=\"1\" stroke-width=\"3.2\"/>\n",
              "<circle clip-path=\"url(#clip402)\" cx=\"1886.51\" cy=\"944.985\" r=\"14.4\" fill=\"#009af9\" fill-rule=\"evenodd\" fill-opacity=\"1\" stroke=\"#000000\" stroke-opacity=\"1\" stroke-width=\"3.2\"/>\n",
              "<circle clip-path=\"url(#clip402)\" cx=\"2089.22\" cy=\"601.666\" r=\"14.4\" fill=\"#009af9\" fill-rule=\"evenodd\" fill-opacity=\"1\" stroke=\"#000000\" stroke-opacity=\"1\" stroke-width=\"3.2\"/>\n",
              "<circle clip-path=\"url(#clip402)\" cx=\"2291.94\" cy=\"160.256\" r=\"14.4\" fill=\"#009af9\" fill-rule=\"evenodd\" fill-opacity=\"1\" stroke=\"#000000\" stroke-opacity=\"1\" stroke-width=\"3.2\"/>\n",
              "</svg>\n"
            ]
          },
          "metadata": {},
          "output_type": "display_data"
        }
      ],
      "source": [
        "# insert your code here\n",
        "function square(x)\n",
        "    return x^2\n",
        "end\n",
        "x_values = -5:5\n",
        "y_values = [square(x) for x in x_values]\n",
        "using Plots\n",
        "plot(x_values, y_values, \n",
        "     label=nothing,  # Removes the label from the legend\n",
        "     xlabel=\"x\", \n",
        "     ylabel=\"y\", \n",
        "     title=\"Plot of \\$y = x^2\\$\",   # LaTeX string for the title\n",
        "     legend=false,\n",
        "     marker=:circle,\n",
        "     line=:solid)\n"
      ]
    },
    {
      "cell_type": "markdown",
      "id": "eaca6031-e691-4019-9986-e7127b3df842",
      "metadata": {},
      "source": [
        "## Commit and Push Your Changes to GitHub\n",
        "\n",
        "After completing the previous two exercises, commit your solution file\n",
        "(notebook or otherwise) and push to GitHub. Use an informative commit\n",
        "message which makes it clear what changes you’ve made. The specific\n",
        "workflow for this will vary depending on how you’re writing up your\n",
        "solutions; please search for specifics and ask for help as needed!\n",
        "\n",
        "> **Useful Commit Sizes**\n",
        ">\n",
        "> Ideally, you’d commit whenever you make a “substantial” enough change\n",
        "> that you want to lock in, such as writing the core code for a problem\n",
        "> or completing a problem, if you’re preparing code to be used elsewhere\n",
        "> (by yourself or others), or if you want to ask for help. `git` lets\n",
        "> you revert changes back to a previous commit, so it’s easy to undo\n",
        "> changes or updates which broke something that was previously working,\n",
        "> so changing too many things at once can make it hard to keep track of\n",
        "> what worked when.\n",
        ">\n",
        "> But in this case, go ahead and just commit after finishing the\n",
        "> problems.\n",
        "\n",
        "Push the repository with these commits to GitHub and take a screenshot\n",
        "of the repository page\n",
        "(`https://github.com/BEE4750-FA24/<username>/lab01`) which shows the\n",
        "updated repository. Include that screenshot in your submission as the\n",
        "solution to this problem.\n",
        "\n",
        "## Submitting PDF\n",
        "\n",
        "> **Important**\n",
        ">\n",
        "> These submission instructions will not be repeated on future\n",
        "> assignments!\n",
        "\n",
        "Export your writeup as a PDF and submit it to the “Lab 1” assignment on\n",
        "Gradescope. Make sure that you tag pages corresponding to relevant\n",
        "problems to avoid a 10% penalty.\n",
        "\n",
        "> **Printing Code to PDF**\n",
        ">\n",
        "> You are not required to submit your code when submitting assignments.\n",
        "> However, when printing a notebook to PDF, long lines will run off the\n",
        "> edge of code cells, which may result in comments or code being hidden.\n",
        "> If you see this, go back to the notebook and break up long lines into\n",
        "> shorter onces (for example, see the comment in the above code cell) to\n",
        "> ensure key parts of your results aren’t missing."
      ]
    }
  ],
  "metadata": {
    "kernel_info": {
      "name": "julia"
    },
    "kernelspec": {
      "display_name": "Julia 1.10.5",
      "language": "julia",
      "name": "julia-1.10"
    },
    "language_info": {
      "file_extension": ".jl",
      "mimetype": "application/julia",
      "name": "julia",
      "version": "1.10.5"
    }
  },
  "nbformat": 4,
  "nbformat_minor": 5
}
